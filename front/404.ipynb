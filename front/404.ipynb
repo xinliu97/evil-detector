{
  "cells": [
    {
      "cell_type": "markdown",
      "metadata": {},
      "source": [
        "---\n",
        "title: Page Not Found\n",
        "---\n",
        "\n",
        "The page you requested cannot be found (perhaps it was moved or renamed).\n",
        "\n",
        "You may want to try searching to find the page's new location."
      ]
    }
  ],
  "metadata": {
    "kernelspec": {
      "display_name": "Python 3 (ipykernel)",
      "language": "python",
      "name": "python3"
    }
  },
  "nbformat": 4,
  "nbformat_minor": 4
}

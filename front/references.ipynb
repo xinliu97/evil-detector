{
  "cells": [
    {
      "cell_type": "raw",
      "metadata": {},
      "source": [
        "---\n",
        "title: \"References\"\n",
        "---"
      ]
    },
    {
      "cell_type": "markdown",
      "metadata": {},
      "source": [
        "# Paper\n",
        "\n",
        "## Feature selection.\n",
        "\n",
        "1. Naive Bayes Approach for Website Classification. [Link](https://www.researchgate.net/profile/Rajalakshmi-R-2/publication/225983336_Naive_Bayes_Approach_for_Website_Classification/links/0c960529425d856add000000/Naive-Bayes-Approach-for-Website-Classification.pdf)\n",
        "\n",
        "    * 这篇文章主要是讲了如何用朴素贝叶斯算法来对网站进行分类。\n",
        "\n",
        "\n",
        "2.  Detecting mailcious urls using lexical analysis [Link](https://cyberlab.usask.ca/papers/Mamun2016_Chapter_DetectingMaliciousURLsUsingLex.pdf)\n",
        "\n",
        "    * 这篇文章主要是讲了如何用词法分析来对网站进行分类。利用的特征是URL的语义特征。\n",
        "\n",
        "\n",
        "3.  Phishing Website Detection With Semantic Features Based on Machine Learning Classifiers:A Comparative Study[Link](https://d1wqtxts1xzle7.cloudfront.net/83008213/viewtitle-libre.pdf?1648767973=&response-content-disposition=inline%3B+filename%3DPhishing_Website_Detection_With_Semantic.pdf&Expires=1695925738&Signature=KwonQjlAggYFM0jjhmwTUZGjRV4WUnEW-h4OsleJ~jub8oQdRgiaiRhfCeNbuNI9kqWk8YsnBbpm5lQzd8Q5WyudxWQRfZUQQS-RLpqLcTTEZzWT1AsROuH3KrfaswTMTDPJpIgiYlmUlX6m9Pd~uKf8lPf~troGFUShAgJOsg1GWTiT3XllDsOxpc2-XyfI862Go~xVmSeA0HDq9ga~kXix-3pSm38-XgXOIbti1wTiRyyZJ44UTvwU78~AzKn3-mGargdIPlpuk42oEV91kYPjaB-rM3stSP~KgXwOiTD7HhjzQSbCju8G9UQmLxoCdCXg25sCroNXsBfrLNVevw__&Key-Pair-Id=APKAJLOHF5GGSLRBV4ZA)\n",
        "\n",
        "4. Feature Selection for Phishing Website Classification [Link](https://www.researchgate.net/profile/Nor-S-Sani/publication/341154897_Feature_Selection_for_Phishing_Website_Classification/links/5eb414be45851523bd4a44f5/Feature-Selection-for-Phishing-Website-Classification.pdf)\n",
        "\n",
        "\n",
        "5. Swarm Intelligence Approaches for Parameter Setting of Deep Learning Neural Network: Case Study on Phishing Websites Classification[Link](https://dl.acm.org/doi/pdf/10.1145/3227609.3227655?casa_token=P37Zmcz7TtQAAAAA:Eej0VV7pBP_-eKRJ-lT2iFEqQQlAMN9xjRE5MtfcDjUaQwLFzfBXluo_oEDCvTqJEcja6_VdkLCsQQ)\n",
        "\n",
        "    * 3-5 从URl和网站的内容中提取特征，讲了特征如何选取。\n",
        "\n",
        "## Website Classification\n",
        "\n",
        "\n",
        "1. Web page classification: Features and algorithms\n",
        "[Link](https://dl.acm.org/doi/pdf/10.1145/1459352.1459357?casa_token=Q4y0bqCycLIAAAAA:KPOvQZz3-QxLB_JdY1ZiIUW1_h2IWEinndSvqittSM_xlLBXuD761doEpQbbnxW375qiFYOHR91B5g)\n",
        "\n",
        "    * Web classification 开山鼻祖！明天读完更新这部分内容。\n",
        "\n",
        "\n",
        "2. Semi-supervised multi-view graph convolutional networks with application to webpage classification[Link](https://www.sciencedirect.com/science/article/pii/S0020025522000160?casa_token=_9xV_aHxc6kAAAAA:keA4KnI-Cenh-eQM1ART3gTObz3LwNfMfaaec6yKOY_pm6O98jmyIcnQVMgpEKPAAAyo6QffsX4)\n",
        "\n",
        "    * 这篇文章用了semi-supervised multi-view graph convolutional networks来对网站进行分类。效果非常好，但是需要大量已经分类好的数据。\n",
        "\n",
        "\n",
        "## Characterizing the \"Dangerous Web\"\n",
        "\n",
        "1. What makes a “bad” ad? user perceptions of problematic online advertising. \n",
        "    * 这篇文章主要定义了什么是“bad”ad，以及用户对于bad ad的看法。我们在定义危险网站的时候可以参考这篇文章的定义。在分析危险网站的时候，可以参考这篇文章的考量点。[Link](https://dl.acm.org/doi/pdf/10.1145/3411764.3445459)\n",
        "\n",
        "\n",
        "2.  Online tracking: A 1-million-site measurement and analysis.\n",
        "    * 学习如何分析Trackers. 借助这个工具可以分析网站的trackers. [Link](https://www.cs.princeton.edu/~arvindn/publications/OpenWPM_1_million_site_tracking_measurement.pdf)\n",
        "    [Code](https://github.com/openwpm/OpenWPM)\n",
        "\n",
        "3. Dark Web Illegal Activities Crawling and Classifying Using Data Mining Techniques\n",
        "    * 这篇文章主要是讲了如何用数据挖掘的方法来对暗网进行分类。叙述了暗网的定义。[Link](https://d1wqtxts1xzle7.cloudfront.net/88653248/11355-libre.pdf?1657970305=&response-content-disposition=inline%3B+filename%3DDark_Web_Illegal_Activities_Crawling_and.pdf&Expires=1696128153&Signature=Q1JtFqlJrcqV~dETKvM02APi6pwzrROEpCIqE84dk-Ay6jN1ic3pkXQEjSxEsu4tQEeFU5FiA3FctKQDH5Rsm8tD48wxSI6Tq6clPEHRLIkKWgfjUD1ivciMTUWYT53Q5jAvQXl9xMeIY6v6fdpLNEp-Ra1E7b0lmwMzfHW605G2gMumYm74tn0Wy9JM2KB4zhiauxiyesBpG9zkcT19YHKnErlRXtbx1J3OfIkzloxCma5KgHS-qdg49Y4H9kjCSzKR8Jfpe29uvP8LbvYCuZzGnu3HQef-akzhytNOrVmzdMTAJhIJ5V909euYPg281KTi6pUON35T-xzIVSosIw__&Key-Pair-Id=APKAJLOHF5GGSLRBV4ZA)\n",
        "\n",
        "\n",
        "\n",
        "\n"
      ]
    },
    {
      "cell_type": "markdown",
      "metadata": {},
      "source": [
        "# Data Set\n",
        "\n",
        "1. [WebKB DataSet:](http://www.cs.cmu.edu/~webkb/)\n",
        "\n",
        "    -WebKB dataset contains 1051 webpages collected from four universities. These webpages are categorized into the course class and the non-course class. The first class contains 230 pages and the other class consists of the remaining 821 pages. In WebKB, page is characterized by two views, i.e., the page view and the link view. The page view contains the textual content on the page, and the link view contains the hyperlinks pointing to the page. \n",
        "\n",
        "2. [AD DataSet:](https://archive.ics.uci.edu/dataset/51/internet+advertisements)\n",
        "\n",
        "    -AD dataset contains 3279 samples from two categories, i.e., advertisement class and the non-advertisement class, which are collected from the UCI machine learning repository. \n",
        "\n",
        "\n",
        "3. [ISCX-URL2016](https://www.unb.ca/cic/datasets/url-2016.html)\n",
        "\n",
        "    -This dataset contains over 110,000 urls. And devide those url into 5 categories: benign, phishing, spam, defacement, malware. We will use this dataset as our training dataset.\n"
      ]
    },
    {
      "cell_type": "raw",
      "metadata": {},
      "source": []
    }
  ],
  "metadata": {
    "kernelspec": {
      "display_name": "Python 3 (ipykernel)",
      "language": "python",
      "name": "python3"
    }
  },
  "nbformat": 4,
  "nbformat_minor": 4
}

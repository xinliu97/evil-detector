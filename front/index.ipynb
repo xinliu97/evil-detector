{
  "cells": [
    {
      "cell_type": "raw",
      "metadata": {},
      "source": [
        "---\n",
        "title: \"Introduction\"\n",
        "---"
      ]
    },
    {
      "cell_type": "markdown",
      "metadata": {},
      "source": [
        "### Topic Summary\n",
        "\n",
        "\n",
        "In this project I aim to develop a generalizable novel methodology for identifying website list in a target category. And I will use \"danguage\" as an example to demonstrate my methodology. Finally I will analyze the characteristics of dangerous websites via calsual inference.\n",
        "\n",
        "To be more specific, I will answer the following questions in this project:\n",
        "\n",
        "1. How to ascertain whether a website belongs to a specific website category without having a dataset? Not every classification comes with a \"ground truth\" available for our study. Therefore, I aim to develop a method to determine whether a website falls into a given category in the absence of \"ground truth\".(i.e. Input: Category defination, website list.  Output: Website which belongs to this category).\n",
        "\n",
        "    2. Case study: How to identify dangerous websites? I will use \"dangerous websites\" as an example to demonstrate my methodology. I will develop a method to identify dangerous websites and analyze the characteristics of dangerous websites via calsual inference(**Not sure which method for this part**).\n",
        "\n",
        "In this projcet I aim to create a list of dangerous websites and conduct a feature analysis on the websites in this list. I want to determine what kinds of websites are more likely to be considered dangerous, what characteristics dangerous websites have, and observe the trackers and advertisements on these websites. I wish to understand how to identify dangerous websites and whether we can predict dangerous websites. I believe that dangerous websites are a collection of certain types of websites. Through this work, we could better identify dangerous websites. Zeng[^1] proposed how to identify a bad advertisement in 2021, which provided ideas for my work. Englehardt and others analyzed the security of popular websites in 2016[^2], but no one has analyzed a large scale of specific types of websites, so my work should be meaningful.\n",
        "\n",
        "This project's contribution will be:\n",
        "\n",
        "1. Develop a generalizable novel methodology for identifying website list in a target category.\n",
        "\n",
        "2. Analyze the characteristics of dangerous websites via calsual inference.\n",
        "\n",
        "\n",
        "\n"
      ]
    },
    {
      "cell_type": "markdown",
      "metadata": {},
      "source": [
        "### Process\n",
        "\n",
        "#### 1.Collect a list of websites and the data we want to use.\n",
        "\n",
        "Now we use data from [ISCX-URL2016](https://www.unb.ca/cic/datasets/url-2016.html)\n",
        "\n",
        "\n",
        "\n",
        "According to the reference we can use the following features to identify the category of a website:\n",
        "\n",
        "| Feature ID | Variable Name                      | Variable Description                                                |\n",
        "|------------|------------------------------------|---------------------------------------------------------------------|\n",
        "| 1          | IP_Address_Usage                   | Indicates whether the IP address is used as the URL.               |\n",
        "| 2          | Long_URL                           | Reflects if the URL is unusually long to hide suspicious parts.    |\n",
        "| 3          | At_Symbol_In_URL                   | Denotes the presence of '@' symbol in the URL.                     |\n",
        "| 4          | Domain_Prefix_Suffix               | Presence of prefix or suffix in the domain.                        |\n",
        "| 5          | Sub_Domain_Count                   | Number of sub-domains and multi sub-domains.                       |\n",
        "| 6          | Request_URL                        | The URL which is requested.                                        |\n",
        "| 7          | Anchor_URL                         | The URL of anchor links in the webpage.                            |\n",
        "| 8          | Abnormal_URL                       | Identifies if the URL structure is abnormal.                       |\n",
        "| 9          | Links_In_Tags                      | Number of links present within tags (like `<a>`, `<img>` etc.).    |\n",
        "| 10         | Webpage_Title                      | The title of the webpage.                                          |\n",
        "| 11         | Meta_Description                   | Description of the webpage provided in meta tags (if available).  |\n",
        "| 12         | Redirect_Page                      | Indicates whether the webpage redirects to another page.           |\n",
        "| 13         | Active_Content_Presence            | Presence of active content like JavaScript, Flash.                 |\n",
        "| 14         | Technology_Stack_Info              | Information on the technology stack used, analyzed from HTTP headers or page content. |\n",
        "| 15         | HTTP_Header_Info                   | Information provided in the HTTP headers of the webpage.           |\n",
        "| 16         | Privacy_Policy_Presence            | Indicates the presence of Privacy Policy/Terms of Service through text analysis. |\n",
        "| 17         | Mobile_Responsiveness              | Indicates whether the webpage is designed responsively for mobile devices. |\n",
        "| 18         | External_Links_Count               | Number of external links present on the webpage by analyzing `<a>` tags. |\n",
        "\n",
        "\n",
        "For fetching the features above, we write a class [WebScraper](../codes/01-data-gathering/WebScraper.py) to gethering those data.\n",
        "\n",
        "\n",
        "\n",
        "\n",
        "\n"
      ]
    },
    {
      "cell_type": "markdown",
      "metadata": {},
      "source": []
    }
  ],
  "metadata": {
    "kernelspec": {
      "display_name": "Python 3 (ipykernel)",
      "language": "python",
      "name": "python3"
    }
  },
  "nbformat": 4,
  "nbformat_minor": 4
}
